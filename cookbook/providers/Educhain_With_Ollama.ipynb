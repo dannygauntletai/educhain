{
 "cells": [
  {
   "cell_type": "markdown",
   "metadata": {},
   "source": [
    "# Educhain with Ollama - Local Model Integration\n",
    "\n",
    "This cookbook demonstrates how to use Educhain with local models via Ollama integration.\n",
    "\n",
    "## Prerequisites\n",
    "1. Install Ollama from https://ollama.ai\n",
    "2. Pull and start your preferred model:\n",
    "```bash\n",
    "ollama pull mistral\n",
    "ollama serve\n",
    "```"
   ]
  },
  {
   "cell_type": "code",
   "execution_count": null,
   "metadata": {},
   "source": [
    "from educhain import Educhain, LLMConfig\n",
    "\n",
    "# Configure for local model\n",
    "config = LLMConfig(\n",
    "    model_name=\"mistral\",  # or any other Ollama-supported model\n",
    "    base_url=\"http://localhost:11434\",  # default Ollama URL\n",
    "    temperature=0.7\n",
    ")"
   ]
  },
  {
   "cell_type": "markdown",
   "metadata": {},
   "source": [
    "## 1. Basic Question Generation\n",
    "\n",
    "Generate different types of questions using local models"
   ]
  },
  {
   "cell_type": "code",
   "execution_count": null,
   "metadata": {},
   "source": [
    "client = Educhain(config)\n",
    "\n",
    "# Multiple Choice Questions\n",
    "mcq = client.qna_engine.generate_questions(\n",
    "    question_type=\"Multiple Choice\",\n",
    "    num=2,\n",
    "    topic=\"Python Programming\"\n",
    ")\n",
    "print(\"Multiple Choice Questions:\")\n",
    "print(mcq.json(indent=2))"
   ]
  },
  {
   "cell_type": "code",
   "execution_count": null,
   "metadata": {},
   "source": [
    "# True/False Questions\n",
    "tf = client.qna_engine.generate_questions(\n",
    "    question_type=\"True/False\",\n",
    "    num=2,\n",
    "    topic=\"Science\"\n",
    ")\n",
    "print(\"\\nTrue/False Questions:\")\n",
    "print(tf.json(indent=2))"
   ]
  },
  {
   "cell_type": "markdown",
   "metadata": {},
   "source": [
    "## 2. Source-Based Questions\n",
    "\n",
    "Generate questions from different content sources"
   ]
  },
  {
   "cell_type": "code",
   "execution_count": null,
   "metadata": {},
   "source": [
    "# From Text\n",
    "text_content = \"\"\"\n",
    "The Python programming language was created by Guido van Rossum and was \n",
    "released in 1991. Python is known for its simple syntax and readability.\n",
    "\"\"\"\n",
    "\n",
    "text_questions = client.qna_engine.generate_questions_from_data(\n",
    "    source=text_content,\n",
    "    source_type=\"text\",\n",
    "    num=2\n",
    ")\n",
    "print(\"Questions from Text:\")\n",
    "print(text_questions.json(indent=2))"
   ]
  },
  {
   "cell_type": "code",
   "execution_count": null,
   "metadata": {},
   "source": [
    "# From URL\n",
    "url_questions = client.qna_engine.generate_questions_from_data(\n",
    "    source=\"https://en.wikipedia.org/wiki/Python_(programming_language)\",\n",
    "    source_type=\"url\",\n",
    "    num=2\n",
    ")\n",
    "print(\"Questions from URL:\")\n",
    "print(url_questions.json(indent=2))"
   ]
  },
  {
   "cell_type": "markdown",
   "metadata": {},
   "source": [
    "## 3. Math Questions\n",
    "\n",
    "Generate mathematical questions with computation support"
   ]
  },
  {
   "cell_type": "code",
   "execution_count": null,
   "metadata": {},
   "source": [
    "math_questions = client.qna_engine.generate_mcq_math(\n",
    "    topic=\"Basic Algebra\",\n",
    "    num=2\n",
    ")\n",
    "print(\"Math Questions:\")\n",
    "print(math_questions.json(indent=2))"
   ]
  },
  {
   "cell_type": "markdown",
   "metadata": {},
   "source": [
    "## 4. Advanced Usage\n",
    "\n",
    "Customize question generation with additional parameters"
   ]
  },
  {
   "cell_type": "code",
   "execution_count": null,
   "metadata": {},
   "source": [
    "# Custom prompt template\n",
    "custom_template = \"\"\"\n",
    "Generate {num} multiple-choice question (MCQ) based on the given topic and level.\n",
    "Topic: {topic}\n",
    "Learning Objective: {learning_objective}\n",
    "Difficulty Level: {difficulty_level}\n",
    "\"\"\"\n",
    "\n",
    "custom_questions = client.qna_engine.generate_questions(\n",
    "    topic=\"Python Classes\",\n",
    "    num=2,\n",
    "    learning_objective=\"Understanding OOP concepts\",\n",
    "    difficulty_level=\"Advanced\",\n",
    "    prompt_template=custom_template\n",
    ")\n",
    "print(\"Custom Questions:\")\n",
    "print(custom_questions.json(indent=2))"
   ]
  }
 ],
 "metadata": {
  "kernelspec": {
   "display_name": "Python 3",
   "language": "python",
   "name": "python3"
  }
 }
}
